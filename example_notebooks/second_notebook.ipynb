{
 "cells": [
  {
   "cell_type": "code",
   "execution_count": 1,
   "metadata": {},
   "outputs": [],
   "source": [
    "# Standard library imports.\n",
    "from datetime import datetime\n",
    "from pathlib import Path\n",
    "import sys\n",
    "\n",
    "# Local imports.\n",
    "sys.path.insert(0,str(Path.cwd().parent/\"project_scripts\"))\n",
    "import retro_object as ro\n",
    "import frame_functions as ff\n",
    "\n",
    "# Create a Boston RetroObject.\n",
    "boston = ro.Retro_Object(\"bos\")\n",
    "\n",
    "# Create a pandas DataFrame for Boston's July 2021 results using\n",
    "# bevent.\n",
    "boston_july_events = boston.bevent(\n",
    "    year = 2021,\n",
    "    start = datetime(2021,7,1),\n",
    "    end = datetime(2021,7,31)\n",
    "    )\n",
    "\n",
    "# Strikeouts at Boston home games, July 2021. \n",
    "strike_three = (\n",
    "    boston_july_events\n",
    "    .query(\"\"\" `event text*` == \"K\" \"\"\")\n",
    "    .filter([\n",
    "        \"game id*\", \"date\", \"balls*\", \"strikes*\",\n",
    "        \"visiting team*\",\"batting team*\",\n",
    "        \"res batter*\", \"res batter hand*\",\n",
    "        \"res pitcher*\", \"res pitcher hand*\"\n",
    "        ])\n",
    "    )\n",
    "\n",
    "# Extract dates from game id* column.  Add batter and pitcher names to\n",
    "# dataframe.\n",
    "ff.get_bevent_dates(frame = strike_three)\n",
    "ff.insert_names(\n",
    "    frame = strike_three,\n",
    "    columns = [\"res batter*\",\"res pitcher*\"]\n",
    "    )\n",
    "\n",
    "# Make minor replacements in the strike_three dataframe.\n",
    "strike_three[\"batting team*\"] = (\n",
    "    strike_three[\"batting team*\"]\n",
    "    .replace({0: \"away\", 1: \"home\"})\n",
    "    )\n",
    "\n",
    "# Redirect csv file to our export directory.\n",
    "strike_three.to_csv(\n",
    "    Path.cwd().parent\n",
    "    /\"project_exports\"\n",
    "    /\"july_strikeouts_second_export.csv\",\n",
    "    index = False\n",
    "    )"
   ]
  }
 ],
 "metadata": {
  "kernelspec": {
   "display_name": "baseball_env",
   "language": "python",
   "name": "python3"
  },
  "language_info": {
   "codemirror_mode": {
    "name": "ipython",
    "version": 3
   },
   "file_extension": ".py",
   "mimetype": "text/x-python",
   "name": "python",
   "nbconvert_exporter": "python",
   "pygments_lexer": "ipython3",
   "version": "3.9.5"
  },
  "orig_nbformat": 4
 },
 "nbformat": 4,
 "nbformat_minor": 2
}
