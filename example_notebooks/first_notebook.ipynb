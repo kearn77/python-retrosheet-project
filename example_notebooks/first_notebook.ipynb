{
 "cells": [
  {
   "cell_type": "code",
   "execution_count": null,
   "metadata": {},
   "outputs": [],
   "source": [
    "# Standard library imports.\n",
    "from pathlib import Path\n",
    "import sys\n",
    "\n",
    "# Third party library imports.\n",
    "import pandas as pd\n",
    "\n",
    "# Local imports.\n",
    "sys.path.insert(0,str(Path.cwd().parent/\"project_scripts\"))\n",
    "import retro_object as ro\n",
    "\n",
    "# Create a Boston RetroObject.\n",
    "boston = ro.RetroObject(\"bos\")\n",
    "\n",
    "# Create a pandas DataFrame for Boston's \n",
    "# July 2021 results using bevent.\n",
    "bostonJulyEvents = pd.DataFrame(\n",
    "    data = boston.bevent(\n",
    "        yearStart = 2021,\n",
    "        start = 71,\n",
    "        end = 731 \n",
    "    ),\n",
    "    columns = [ro.beventFieldsDict[col] for col in boston.columns]\n",
    ")\n",
    "\n",
    "# Strikeouts at Boston home games, July 2021. \n",
    "strikeThree = (\n",
    "    bostonJulyEvents\n",
    "    .query(\"\"\" `event text*` == 'K' \"\"\")\n",
    "    .filter([\n",
    "        \"game id*\", \"balls*\", \"strikes*\",\n",
    "        \"visiting team*\",\"batting team*\",\n",
    "        \"res batter*\", \"res batter hand*\",\n",
    "        \"res pitcher*\", \"res pitcher hand*\"\n",
    "    ])\n",
    ")\n",
    "\n",
    "# Redirect csv file to our export directory.\n",
    "strikeThree.to_csv(Path.cwd().parent/\"project_exports\"/\"july_strikeouts_first_export.csv\")"
   ]
  }
 ],
 "metadata": {
  "kernelspec": {
   "display_name": "baseball_env",
   "language": "python",
   "name": "python3"
  },
  "language_info": {
   "codemirror_mode": {
    "name": "ipython",
    "version": 3
   },
   "file_extension": ".py",
   "mimetype": "text/x-python",
   "name": "python",
   "nbconvert_exporter": "python",
   "pygments_lexer": "ipython3",
   "version": "3.9.5"
  },
  "orig_nbformat": 4
 },
 "nbformat": 4,
 "nbformat_minor": 2
}
